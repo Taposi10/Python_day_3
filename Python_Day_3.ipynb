{
 "cells": [
  {
   "cell_type": "code",
   "execution_count": 1,
   "id": "d1417757-e6fd-41b0-899b-d15e811a0b88",
   "metadata": {},
   "outputs": [
    {
     "name": "stdin",
     "output_type": "stream",
     "text": [
      "Enter any number 5\n"
     ]
    },
    {
     "name": "stdout",
     "output_type": "stream",
     "text": [
      "5  is prime number\n"
     ]
    }
   ],
   "source": [
    "#Check Prime Number\n",
    "num=int(input(\"Enter any number\"))\n",
    "if num==1:\n",
    "    print(\"This is not prime number\")\n",
    "if num>1:\n",
    "\n",
    "    for i in range(2,num):\n",
    "        if num%i==0:\n",
    "            print(\"This is not a prime number\",num)\n",
    "            break\n",
    "    else:\n",
    "        print(num, \" is prime number\",)"
   ]
  },
  {
   "cell_type": "code",
   "execution_count": 2,
   "id": "82ecc54d-d4fa-4af2-99ac-f5692b6b0084",
   "metadata": {},
   "outputs": [
    {
     "name": "stdout",
     "output_type": "stream",
     "text": [
      "8\n"
     ]
    }
   ],
   "source": [
    "#Generate a Random Number\n",
    "import random\n",
    "num=random.randint(0,23)\n",
    "print(num)"
   ]
  },
  {
   "cell_type": "code",
   "execution_count": 3,
   "id": "ad23d6a6-398b-4d0e-b19c-edbd7cbd6f62",
   "metadata": {},
   "outputs": [
    {
     "name": "stdin",
     "output_type": "stream",
     "text": [
      "Enter lower limit 1\n",
      "Enter upper limit 100\n"
     ]
    },
    {
     "name": "stdout",
     "output_type": "stream",
     "text": [
      "2 is prime number\n",
      "3 is prime number\n",
      "5 is prime number\n",
      "7 is prime number\n",
      "11 is prime number\n",
      "13 is prime number\n",
      "17 is prime number\n",
      "19 is prime number\n",
      "23 is prime number\n",
      "29 is prime number\n",
      "31 is prime number\n",
      "37 is prime number\n",
      "41 is prime number\n",
      "43 is prime number\n",
      "47 is prime number\n",
      "53 is prime number\n",
      "59 is prime number\n",
      "61 is prime number\n",
      "67 is prime number\n",
      "71 is prime number\n",
      "73 is prime number\n",
      "79 is prime number\n",
      "83 is prime number\n",
      "89 is prime number\n",
      "97 is prime number\n"
     ]
    }
   ],
   "source": [
    "#Print all Prime Numbers in an Interval\n",
    "lower=int(input(\"Enter lower limit\"))\n",
    "upper=int(input(\"Enter upper limit\"))\n",
    "for num in range(lower,upper+1):\n",
    "    if num>1:\n",
    "        for i in range(2,num):\n",
    "            if num%i==0:\n",
    "                break\n",
    "        else:\n",
    "                print(num,\"is prime number\")"
   ]
  },
  {
   "cell_type": "code",
   "execution_count": 4,
   "id": "85c685bf-3398-4165-8197-86f95ff71562",
   "metadata": {},
   "outputs": [
    {
     "name": "stdin",
     "output_type": "stream",
     "text": [
      "Enter the temperature: 30\n"
     ]
    },
    {
     "name": "stdout",
     "output_type": "stream",
     "text": [
      "86.0\n"
     ]
    }
   ],
   "source": [
    "#(30°C x 1.8) + 32 = 86°F\n",
    "#Convert Celsius To Fahrenheit\n",
    "temp=int(input(\"Enter the temperature:\"))\n",
    "faren=(temp*1.8)+32\n",
    "print(faren)"
   ]
  },
  {
   "cell_type": "code",
   "execution_count": 5,
   "id": "90192c99-79bc-4a8c-b735-4e3a0d3e2ed8",
   "metadata": {},
   "outputs": [
    {
     "name": "stdin",
     "output_type": "stream",
     "text": [
      "Enter any number: 5\n"
     ]
    },
    {
     "name": "stdout",
     "output_type": "stream",
     "text": [
      "120\n"
     ]
    }
   ],
   "source": [
    "#Find the Factorial of a Number\n",
    "def fact(n):\n",
    "    if n==0:\n",
    "        return 1\n",
    "    else:\n",
    "       return (n*fact(n-1))\n",
    "num=int(input(\"Enter any number:\"))\n",
    "print(fact(num))\n",
    "    "
   ]
  },
  {
   "cell_type": "code",
   "execution_count": 6,
   "id": "89541633-1b5d-452d-8c57-d3e0b413f728",
   "metadata": {},
   "outputs": [
    {
     "name": "stdin",
     "output_type": "stream",
     "text": [
      "Enter any number: 6\n"
     ]
    },
    {
     "name": "stdout",
     "output_type": "stream",
     "text": [
      "6 X 1 = 6\n",
      "6 X 2 = 12\n",
      "6 X 3 = 18\n",
      "6 X 4 = 24\n",
      "6 X 5 = 30\n",
      "6 X 6 = 36\n",
      "6 X 7 = 42\n",
      "6 X 8 = 48\n",
      "6 X 9 = 54\n",
      "6 X 10 = 60\n"
     ]
    },
    {
     "name": "stdin",
     "output_type": "stream",
     "text": [
      "Enter any number: 46\n"
     ]
    },
    {
     "name": "stdout",
     "output_type": "stream",
     "text": [
      "46 X 1 = 46\n",
      "46 X 2 = 92\n",
      "46 X 3 = 138\n",
      "46 X 4 = 184\n",
      "46 X 5 = 230\n",
      "46 X 6 = 276\n",
      "46 X 7 = 322\n",
      "46 X 8 = 368\n",
      "46 X 9 = 414\n",
      "46 X 10 = 460\n"
     ]
    }
   ],
   "source": [
    "#Display the Multiplication Table\n",
    "#1. Using for loop\n",
    "num=int(input(\"Enter any number:\"))\n",
    "for i in range(1,11):\n",
    "    print(num,\"X\",i,\"=\",num*i)\n",
    "\n",
    "#2.Using while loop\n",
    "i=1\n",
    "num=int(input(\"Enter any number:\"))\n",
    "while i<=10:\n",
    "     print(num,\"X\",i,\"=\",num*i)\n",
    "     i+=1"
   ]
  },
  {
   "cell_type": "code",
   "execution_count": null,
   "id": "22cfbddc-95c4-40ef-9ee5-656f899e82bc",
   "metadata": {},
   "outputs": [],
   "source": []
  },
  {
   "cell_type": "code",
   "execution_count": null,
   "id": "a9b6fddb-aa33-4027-829e-1c473fb06072",
   "metadata": {},
   "outputs": [],
   "source": []
  }
 ],
 "metadata": {
  "kernelspec": {
   "display_name": "Python 3 (ipykernel)",
   "language": "python",
   "name": "python3"
  },
  "language_info": {
   "codemirror_mode": {
    "name": "ipython",
    "version": 3
   },
   "file_extension": ".py",
   "mimetype": "text/x-python",
   "name": "python",
   "nbconvert_exporter": "python",
   "pygments_lexer": "ipython3",
   "version": "3.11.4"
  }
 },
 "nbformat": 4,
 "nbformat_minor": 5
}
